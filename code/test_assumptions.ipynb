{
 "cells": [
  {
   "cell_type": "markdown",
   "metadata": {},
   "source": [
    "# test_assumptions\n",
    "\n",
    "1. State assumptions\n",
    "2. Check assumptions (with figures)\n",
    "    A.residuals\n",
    "    B.correlations\n",
    "\n",
    "## Step 1: State assumptions\n",
    "\n",
    "\n",
    "\n",
    "## Step 2: Check assumptions\n",
    "\n",
    "\n",
    "\n"
   ]
  }
 ],
 "metadata": {
  "kernelspec": {
   "display_name": "Python 2",
   "language": "python",
   "name": "python3"
  },
  "language_info": {
   "codemirror_mode": {
    "name": "ipython",
    "version": 2
   },
   "file_extension": ".py",
   "mimetype": "text/x-python",
   "name": "python",
   "nbconvert_exporter": "python",
   "pygments_lexer": "ipython2",
   "version": "2.7.10"
  }
 },
 "nbformat": 4,
 "nbformat_minor": 0
}
