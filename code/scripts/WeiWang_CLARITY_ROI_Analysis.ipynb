{
 "cells": [
  {
   "cell_type": "markdown",
   "metadata": {},
   "source": [
    "# CLARITY ROI Analysis\n",
    "\n",
    "> Reference: CLARITY ROI Analysis February 9, 2015\n",
    "> \n",
    "> The goal of this analysis is to show the statistical differences between the different classes of CLARITY brains. For each ROI, fourteen different properties were computed. The analysis shows that it is possible to demonstrate statistical differences between the various classes of CLARITY brains when using unsupervised clustering methods."
   ]
  },
  {
   "cell_type": "code",
   "execution_count": 1,
   "metadata": {
    "collapsed": true
   },
   "outputs": [],
   "source": [
    "import os\n",
    "PATH=\"/Users/david/Desktop/CourseWork/TheArtOfDataScience/claritycontrol/code/scripts/\" # use your own path\n",
    "os.chdir(PATH)\n",
    "\n",
    "import clarity.resources as rs\n",
    "import nibabel as nib\n",
    "import numpy as np\n",
    "import matplotlib.pyplot as plt\n",
    "import jgraph as ig\n",
    "import csv,gc  # garbage memory collection :)\n",
    "\n",
    "%matplotlib inline"
   ]
  },
  {
   "cell_type": "markdown",
   "metadata": {},
   "source": [
    "## Normalization"
   ]
  },
  {
   "cell_type": "code",
   "execution_count": 2,
   "metadata": {
    "collapsed": true
   },
   "outputs": [],
   "source": [
    "path = rs.RAW_DATA_PATH\n",
    "token = \"Fear199\"\n",
    "pathname = path+token+\".img\"\n",
    "img_volume = nib.load(pathname).get_data()[:,:,:,0]\n",
    "normalized_volume = (img_volume-np.mean(img_volume))/np.std(img_volume)"
   ]
  },
  {
   "cell_type": "markdown",
   "metadata": {},
   "source": [
    "## ROI Extraction"
   ]
  },
  {
   "cell_type": "code",
   "execution_count": 3,
   "metadata": {
    "collapsed": false
   },
   "outputs": [
    {
     "name": "stdout",
     "output_type": "stream",
     "text": [
      "[[[-1.73280298 -1.73280298 -1.73280298 ..., -1.73280298 -1.73280298\n",
      "   -1.73280298]\n",
      "  [-1.73280298 -1.73280298 -1.73280298 ..., -1.73280298 -1.73280298\n",
      "   -1.73280298]\n",
      "  [-1.73280298 -1.73280298 -1.73280298 ..., -1.73280298 -1.73280298\n",
      "   -1.73280298]\n",
      "  ..., \n",
      "  [-1.73280298 -1.73280298 -1.73280298 ..., -1.73280298 -1.73280298\n",
      "   -1.73280298]\n",
      "  [-1.73280298 -1.73280298 -1.73280298 ..., -1.73280298 -1.73280298\n",
      "   -1.73280298]\n",
      "  [-1.73280298 -1.73280298 -1.73280298 ..., -1.73280298 -1.73280298\n",
      "   -1.73280298]]\n",
      "\n",
      " [[-1.73280298 -1.73280298 -1.73280298 ..., -1.73280298 -1.73280298\n",
      "   -1.73280298]\n",
      "  [ 0.0643992   0.13851063  0.0643992  ...,  0.21262206  0.21262206\n",
      "    0.08292706]\n",
      "  [ 0.13851063  0.17556635  0.13851063 ...,  0.13851063  0.10145492\n",
      "    0.17556635]\n",
      "  ..., \n",
      "  [-1.73280298 -1.73280298 -1.73280298 ..., -1.73280298 -1.73280298\n",
      "   -1.73280298]\n",
      "  [-1.73280298 -1.73280298 -1.73280298 ..., -1.73280298 -1.73280298\n",
      "   -1.73280298]\n",
      "  [-1.73280298 -1.73280298 -1.73280298 ..., -1.73280298 -1.73280298\n",
      "   -1.73280298]]\n",
      "\n",
      " [[-1.73280298 -1.73280298 -1.73280298 ..., -1.73280298 -1.73280298\n",
      "   -1.73280298]\n",
      "  [ 0.13851063  0.17556635  0.13851063 ...,  0.10145492  0.24967778\n",
      "    0.08292706]\n",
      "  [ 0.17556635  0.13851063  0.11998277 ...,  0.17556635  0.10145492\n",
      "    0.11998277]\n",
      "  ..., \n",
      "  [-1.73280298 -1.73280298 -1.73280298 ..., -1.73280298 -1.73280298\n",
      "   -1.73280298]\n",
      "  [-1.73280298 -1.73280298 -1.73280298 ..., -1.73280298 -1.73280298\n",
      "   -1.73280298]\n",
      "  [-1.73280298 -1.73280298 -1.73280298 ..., -1.73280298 -1.73280298\n",
      "   -1.73280298]]\n",
      "\n",
      " ..., \n",
      " [[-1.73280298 -1.73280298 -1.73280298 ..., -1.73280298 -1.73280298\n",
      "   -1.73280298]\n",
      "  [-1.73280298 -1.73280298 -1.73280298 ..., -1.73280298 -1.73280298\n",
      "   -1.73280298]\n",
      "  [-1.73280298 -1.73280298 -1.73280298 ..., -1.73280298 -1.73280298\n",
      "   -1.73280298]\n",
      "  ..., \n",
      "  [-1.73280298 -1.73280298 -1.73280298 ..., -1.73280298 -1.73280298\n",
      "   -1.73280298]\n",
      "  [-1.73280298 -1.73280298 -1.73280298 ..., -1.73280298 -1.73280298\n",
      "   -1.73280298]\n",
      "  [-1.73280298 -1.73280298 -1.73280298 ..., -1.73280298 -1.73280298\n",
      "   -1.73280298]]\n",
      "\n",
      " [[-1.73280298 -1.73280298 -1.73280298 ..., -1.73280298 -1.73280298\n",
      "   -1.73280298]\n",
      "  [-1.73280298 -1.73280298 -1.73280298 ..., -1.73280298 -1.73280298\n",
      "   -1.73280298]\n",
      "  [-1.73280298 -1.73280298 -1.73280298 ..., -1.73280298 -1.73280298\n",
      "   -1.73280298]\n",
      "  ..., \n",
      "  [-1.73280298 -1.73280298 -1.73280298 ..., -1.73280298 -1.73280298\n",
      "   -1.73280298]\n",
      "  [-1.73280298 -1.73280298 -1.73280298 ..., -1.73280298 -1.73280298\n",
      "   -1.73280298]\n",
      "  [-1.73280298 -1.73280298 -1.73280298 ..., -1.73280298 -1.73280298\n",
      "   -1.73280298]]\n",
      "\n",
      " [[-1.73280298 -1.73280298 -1.73280298 ..., -1.73280298 -1.73280298\n",
      "   -1.73280298]\n",
      "  [-1.73280298 -1.73280298 -1.73280298 ..., -1.73280298 -1.73280298\n",
      "   -1.73280298]\n",
      "  [-1.73280298 -1.73280298 -1.73280298 ..., -1.73280298 -1.73280298\n",
      "   -1.73280298]\n",
      "  ..., \n",
      "  [-1.73280298 -1.73280298 -1.73280298 ..., -1.73280298 -1.73280298\n",
      "   -1.73280298]\n",
      "  [-1.73280298 -1.73280298 -1.73280298 ..., -1.73280298 -1.73280298\n",
      "   -1.73280298]\n",
      "  [-1.73280298 -1.73280298 -1.73280298 ..., -1.73280298 -1.73280298\n",
      "   -1.73280298]]]\n"
     ]
    }
   ],
   "source": [
    "# Don't know how to extract ROIs using the Allen Mouse Brain Atlas\n",
    "ROIS = [normalized_volume]"
   ]
  },
  {
   "cell_type": "markdown",
   "metadata": {
    "collapsed": true
   },
   "source": [
    "## Create GLCM and extracting statistical measures"
   ]
  },
  {
   "cell_type": "code",
   "execution_count": null,
   "metadata": {
    "collapsed": true
   },
   "outputs": [],
   "source": [
    "def getGLCM(roi):\n",
    "    #Generating GLCM matrix\n",
    "    pass\n",
    "\n",
    "def \n",
    "\n",
    "for roi in ROIS:\n",
    "    matrix = getGLCM(roi)\n",
    "    matrix = matrix/sum(matrix)  # normalize\n",
    "    "
   ]
  },
  {
   "cell_type": "markdown",
   "metadata": {},
   "source": [
    "## Mean and Standard Deviation"
   ]
  },
  {
   "cell_type": "code",
   "execution_count": null,
   "metadata": {
    "collapsed": true
   },
   "outputs": [],
   "source": []
  }
 ],
 "metadata": {
  "kernelspec": {
   "display_name": "Python 2",
   "language": "python",
   "name": "python3"
  },
  "language_info": {
   "codemirror_mode": {
    "name": "ipython",
    "version": 2
   },
   "file_extension": ".py",
   "mimetype": "text/x-python",
   "name": "python",
   "nbconvert_exporter": "python",
   "pygments_lexer": "ipython2",
   "version": "2.7.10"
  }
 },
 "nbformat": 4,
 "nbformat_minor": 0
}
