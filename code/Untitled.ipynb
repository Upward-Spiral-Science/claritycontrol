{
 "cells": [
  {
   "cell_type": "markdown",
   "metadata": {},
   "source": [
    "# Formal Simulated Inference\n",
    "1. Define F (i.e. your model and assumptions)\n",
    "2. Formalize test\n",
    "3. Describe test statistic\n",
    "4. A. Sample data from F∈ℱ0\n",
    "   B. Sample data from F∈ℱA\n",
    "5. A. Plot power vs n (i.e. perspective power analysis)\n",
    "   B. Plot power vs n (i.e. perspective power analysis)\n",
    "6. Apply to data\n",
    "\n",
    "## Step 1: Define model and assumptions\n",
    "**Model**\n",
    "\n",
    "$$g_{i,j} = floor((L-1))\\sum\\limits_{n=0}^{f_{i, j}} p_n$$\n",
    "\n",
    "$$\n",
    "p_n = z/total\n",
    "$$\n",
    "\n",
    "Where $z$ is the number of pixels with intensity n and $total$ represents the total number of pixels where $n=0, 1, ..., L-1$\n",
    "\n",
    "**Assumption**\n",
    "\n",
    "## Step 2: Formalize test\n",
    "\n",
    "\n",
    "\n",
    "\n",
    "\n",
    "## Requirements to run the program\n",
    "In order to run the program, we need to install the packages in python\n",
    "> [VisPy](http://vispy.org/installation.html)\n",
    "> [PyQt4](https://www.riverbankcomputing.com/software/pyqt/download)\n",
    "> [SIP](https://www.riverbankcomputing.com/software/sip/download)\n",
    "> [nibabel](http://nipy.org/nibabel/installation.html)\n",
    "> matplotlib,numpy"
   ]
  },
  {
   "cell_type": "code",
   "execution_count": 1,
   "metadata": {
    "collapsed": false
   },
   "outputs": [],
   "source": [
    "path = \"/Users/david/Desktop/CourseWork/TheArtOfDataScience/claritycontrol/code/scripts\" # use your own path\n",
    "import os\n",
    "os.chdir(path)\n",
    "import clarity as cl  # I wrote this module for easier operations on data\n",
    "# create a instance\n",
    "c = cl.Clarity(\"Fear199\")"
   ]
  },
  {
   "cell_type": "code",
   "execution_count": null,
   "metadata": {
    "collapsed": true
   },
   "outputs": [],
   "source": [
    "# load image, to points # takes a while to process the data\n",
    "# * threshold rate is used to cut off some noise data.\n",
    "# * sample is sampling rate\n",
    "# show histogram\n",
    "c.loadImg().imgToPoints(threshold=0.02,sample=0.3).showHistogram(bins=256)"
   ]
  },
  {
   "cell_type": "code",
   "execution_count": 3,
   "metadata": {
    "collapsed": false
   },
   "outputs": [
    {
     "name": "stdout",
     "output_type": "stream",
     "text": [
      "Points Loaded: /Users/david/Desktop/CourseWork/TheArtOfDataScience/claritycontrol/code/data/points/Fear199.csv\n"
     ]
    }
   ],
   "source": [
    "# save points to csv file\n",
    "# load directly from points data, instead of the origin data\n",
    "c.loadImg().imgToPoints(threshold=0.04,sample=0.5).savePoints()\n",
    "\n",
    "# show on 3D graph, GPU intensive\n",
    "c.loadPoints().show()"
   ]
  },
  {
   "cell_type": "code",
   "execution_count": null,
   "metadata": {
    "collapsed": true
   },
   "outputs": [],
   "source": []
  }
 ],
 "metadata": {
  "kernelspec": {
   "display_name": "Python 2",
   "language": "python",
   "name": "python3"
  },
  "language_info": {
   "codemirror_mode": {
    "name": "ipython",
    "version": 2
   },
   "file_extension": ".py",
   "mimetype": "text/x-python",
   "name": "python",
   "nbconvert_exporter": "python",
   "pygments_lexer": "ipython2",
   "version": "2.7.10"
  }
 },
 "nbformat": 4,
 "nbformat_minor": 0
}
