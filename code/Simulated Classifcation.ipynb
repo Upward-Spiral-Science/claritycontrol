{
 "cells": [
  {
   "cell_type": "markdown",
   "metadata": {},
   "source": [
    "# Simulated Classifcation\n",
    "\n",
    "1. State assumptions\n",
    "2. Formally define classification/regression problem\n",
    "3. provide algorithm for solving problem (including choosing hyperparameters as appropriate)\n",
    "4. sample data from a simulation setting inspired by your data (from both null and alternative as defined before)\n",
    "5. compute accuracy\n",
    "6. plot accuracy vs. sample size in simulation\n",
    "7. apply method directly on real data\n",
    "8. explain the degree to which you believe the result and why\n",
    "\n",
    "## Step 1: State assumptions\n",
    "\n",
    "\n",
    "\n",
    "## Step 2: Formally define classification/regression problem\n",
    "\n",
    "## Step 3: Provide algorithm for solving problem (including choosing hyperparameters as appropriate)\n",
    "\n"
   ]
  },
  {
   "cell_type": "code",
   "execution_count": 1,
   "metadata": {
    "collapsed": true
   },
   "outputs": [],
   "source": [
    "# change working dir\n",
    "path = \"/Users/david/Desktop/CourseWork/TheArtOfDataScience/claritycontrol/code/scripts\" # use your own path\n",
    "import os\n",
    "os.chdir(path)"
   ]
  },
  {
   "cell_type": "markdown",
   "metadata": {},
   "source": [
    "### Histogram data preparation\n",
    "\n",
    "> Skip this step if the data are already baked, just eat them!\n",
    "\n",
    "1. Set suitable data value range to get histogram from the majority of the datasets."
   ]
  },
  {
   "cell_type": "code",
   "execution_count": 2,
   "metadata": {
    "collapsed": false
   },
   "outputs": [
    {
     "name": "stdout",
     "output_type": "stream",
     "text": [
      "Image Loaded: /Users/david/Desktop/CourseWork/TheArtOfDataScience/claritycontrol/code/data/./Cocaine174.img\n",
      "../data/hist/Cocaine174.hist saved.\n",
      "Image Loaded: /Users/david/Desktop/CourseWork/TheArtOfDataScience/claritycontrol/code/data/./Cocaine175.img\n",
      "../data/hist/Cocaine175.hist saved.\n",
      "Image Loaded: /Users/david/Desktop/CourseWork/TheArtOfDataScience/claritycontrol/code/data/./Cocaine178.img\n",
      "../data/hist/Cocaine178.hist saved.\n",
      "Image Loaded: /Users/david/Desktop/CourseWork/TheArtOfDataScience/claritycontrol/code/data/./Control181.img\n",
      "../data/hist/Control181.hist saved.\n",
      "Image Loaded: /Users/david/Desktop/CourseWork/TheArtOfDataScience/claritycontrol/code/data/./Control182.img\n",
      "../data/hist/Control182.hist saved.\n",
      "Image Loaded: /Users/david/Desktop/CourseWork/TheArtOfDataScience/claritycontrol/code/data/./Control189.img\n",
      "../data/hist/Control189.hist saved.\n",
      "Image Loaded: /Users/david/Desktop/CourseWork/TheArtOfDataScience/claritycontrol/code/data/./Control239.img\n",
      "../data/hist/Control239.hist saved.\n",
      "Image Loaded: /Users/david/Desktop/CourseWork/TheArtOfDataScience/claritycontrol/code/data/./Control258.img\n",
      "../data/hist/Control258.hist saved.\n",
      "Image Loaded: /Users/david/Desktop/CourseWork/TheArtOfDataScience/claritycontrol/code/data/./Fear187.img\n",
      "../data/hist/Fear187.hist saved.\n",
      "Image Loaded: /Users/david/Desktop/CourseWork/TheArtOfDataScience/claritycontrol/code/data/./Fear197.img\n",
      "../data/hist/Fear197.hist saved.\n",
      "Image Loaded: /Users/david/Desktop/CourseWork/TheArtOfDataScience/claritycontrol/code/data/./Fear199.img\n",
      "../data/hist/Fear199.hist saved.\n",
      "Image Loaded: /Users/david/Desktop/CourseWork/TheArtOfDataScience/claritycontrol/code/data/./Fear200.img\n",
      "../data/hist/Fear200.hist saved.\n"
     ]
    }
   ],
   "source": [
    "import numpy as np\n",
    "import clarity.resources as rs\n",
    "import clarity as cl\n",
    "import gc  # garbage memory collection :)\n",
    "\n",
    "BINS=4\n",
    "RANGE=(10.0,300.0)\n",
    "\n",
    "# For testing, find the proper range.\n",
    "# import matplotlib.pyplot as plt\n",
    "# c = cl.Clarity(\"Cocaine178\")\n",
    "# hist, bin_edges = c.loadImg(info=False).getHistogram(bins=BINS,range=RANGE,density=True)\n",
    "# width = 0.8*(bin_edges[1] - bin_edges[0])\n",
    "# center = (bin_edges[:-1] + bin_edges[1:]) / 2\n",
    "# plt.bar(center, hist, align='center', width=width)\n",
    "# plt.show()\n",
    "\n",
    "for token in rs.TOKENS:\n",
    "    c = cl.Clarity(token)\n",
    "    hist, bin_edges = c.loadImg(info=False).getHistogram(bins=BINS,range=RANGE,density=True)\n",
    "    fname = \"../data/hist/\"+token+\".hist\"\n",
    "    np.savetxt(fname,hist,delimiter=',')\n",
    "    print fname,\"saved.\"\n",
    "    del c\n",
    "    gc.collect()"
   ]
  },
  {
   "cell_type": "code",
   "execution_count": null,
   "metadata": {
    "collapsed": true
   },
   "outputs": [],
   "source": []
  }
 ],
 "metadata": {
  "kernelspec": {
   "display_name": "Python 2",
   "language": "python",
   "name": "python3"
  },
  "language_info": {
   "codemirror_mode": {
    "name": "ipython",
    "version": 2
   },
   "file_extension": ".py",
   "mimetype": "text/x-python",
   "name": "python",
   "nbconvert_exporter": "python",
   "pygments_lexer": "ipython2",
   "version": "2.7.10"
  }
 },
 "nbformat": 4,
 "nbformat_minor": 0
}
