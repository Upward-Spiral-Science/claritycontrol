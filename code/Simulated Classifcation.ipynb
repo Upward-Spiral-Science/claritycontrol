{
 "cells": [
  {
   "cell_type": "markdown",
   "metadata": {},
   "source": [
    "> Heavily adopted code and format from greilliam\n",
    "\n",
    "# Simulated Classifcation\n",
    "\n",
    "1. State assumptions\n",
    "2. Formally define classification/regression problem\n",
    "3. provide algorithm for solving problem (including choosing hyperparameters as appropriate)\n",
    "4. sample data from a simulation setting inspired by your data (from both null and alternative as defined before)\n",
    "5. compute accuracy\n",
    "6. plot accuracy vs. sample size in simulation\n",
    "7. apply method directly on real data\n",
    "8. explain the degree to which you believe the result and why\n",
    "\n",
    "## Step 1: State assumptions\n",
    "\n",
    "\n",
    "\n",
    "## Step 2: Formally define classification/regression problem\n",
    "\n",
    "## Step 3: Provide algorithm for solving problem (including choosing hyperparameters as appropriate)\n",
    "\n",
    "\"Machine Learning\" is usually classification or prediction\n",
    "  - predictive is subject specific\n",
    "  \n",
    "Clarity brains have $(X, Y)$ ~iid $F_{xy}$ which is some distribution\n",
    "  - X is subject \n",
    "  - Y is $\\{0, 1\\}$\n",
    "  - Function g(x) spits out a class label (thus g is a classifier function)\n",
    "  - G = {g: map from reals to {0, 1}}\n",
    "    - Classifier takes a single x \n",
    "      - If $x>k$ but $<0$ is one classifier\n",
    "      - Best clasisifier is statistical decision theory\n",
    "        - Need to define a loss function that tells us how wrong we are\n",
    "        - We need to choose classifier that minimizes loss\n",
    "        - G* = $\\underset{g \\in G}{argmin} l(g(x), y)$\n",
    "        - Squared error is a good option $(g(x)-y)^2$\n",
    "          - Problem is that $(0-1)^2 = (1-0)^2$ so you don't know which side of the \"wrong\" you are\n",
    "        - Absolute error is $|g(x)-y|$\n",
    "        - Zero one error \n",
    "          - If $g(x)=y$ then $l=0$\n",
    "          - If $g(y)!=y$ then $l=1$\n",
    "    - If L is the set of loss functions \n",
    "      - L = {l: yxy -> Real+}\n",
    "        - Here we are finding which scores are the best \n",
    "    - Definitions: Voxels, Priors, Baye's rule F_(x,y) = F_(x|y)F_y=F_(y|x)F_x ->  \n",
    "      - $F_(x|y)=N(M_y. 1)$\n",
    "      - $F_y = Bern(pi)$\n",
    "      - Next need to fit the joint distribution \n",
    "        - After fitting the Bayes optimal is called the Bayes plugin\n",
    "        - MLE - minimizing squared error\n",
    "        - Sample n train sample (xi, yi) ~iid F_xx generate training data i∈[n_train]\n",
    "        - estimate classifier theta\n",
    "          - sample iidF_xy i∈[n_test]\n",
    "          \n",
    "    \n",
    "    - Best classifier is called the Bayes Optimal\n",
    "      - g* = argmax F_((x=(x)|(y)=y))\n",
    "        - Can use a posterari if priors are not equal\n",
    "          - F_(x=x, y=y) = F_(x|y)F_y\n",
    "        - compute argmax for y∈y\n",
    "          - Let y = 0 is .99 y-1 is .01\n",
    "        \n",
    "    - Next need to relect get change level accuracy which will almost definitely ahppen if you use a regular loss function \n",
    "      - Use histogram instead of image data\n",
    "        - Classifier list:\n",
    "          - LDA\n",
    "            - Variances are the same \n",
    "            - Made by Fischer\n",
    "            - Finds optimal linear classifier (optimal line) under the assumptions that we have made\n",
    "              - Advantages: Very interpretable, Very fast, Linear\n",
    "          - Random Forest\n",
    "            - Decision tree thresholds are created\n",
    "            - Choose a loss function and then try to do a greedy search\n",
    "            - Find the optimal thresholds to maximize purity\n",
    "            - Change thresholds to maximize purity so that most of one group is in one part and the others are in the others\n",
    "            - Random Forest uses decision trees on subsets of your data, since each tree is noisy and can overfit, so averageing over many different classifiers it will be much more effective\n",
    "            - This is an ensemble method \n",
    "              - Every single classifier is on a different point on the bias variance tradeoff so when you average everything it will be more consistent\n",
    "          - SVM\n",
    "          - Logistic\n",
    "          - Neural Network\n",
    "            - Uses linear algebra, runs on GPU\n",
    "            - Takes in more information and is very useful for computer vision techniques\n",
    "            - Natively do the classificiation\n",
    "          - KNN\n",
    "            - K nearest neighbor \n",
    "            - specify apriori k and find the distance between the points and K \n",
    "            - Assuming K is big enough, it will always converge irrespectively\n",
    "            - Doesn't care about the distributions, but it is universally consistent\n",
    "          - QDA\n",
    "            - Quadratic descriminatory analysis\n",
    "            - Optimal discriminatory boundary is curved\n",
    "            - Covariance matrices\n"
   ]
  },
  {
   "cell_type": "code",
   "execution_count": 1,
   "metadata": {
    "collapsed": true
   },
   "outputs": [],
   "source": [
    "# change working dir\n",
    "path = \"/Users/david/Desktop/CourseWork/TheArtOfDataScience/claritycontrol/code/scripts\" # use your own path\n",
    "import os\n",
    "os.chdir(path)"
   ]
  },
  {
   "cell_type": "markdown",
   "metadata": {},
   "source": [
    "### Histogram data preparation\n",
    "\n",
    "> Skip this step if the data are already baked, just eat them!\n",
    "\n",
    "1. Set suitable data value range to get histogram from the majority of the datasets."
   ]
  },
  {
   "cell_type": "code",
   "execution_count": null,
   "metadata": {
    "collapsed": false
   },
   "outputs": [],
   "source": [
    "import numpy as np\n",
    "import clarity.resources as rs\n",
    "import clarity as cl\n",
    "import gc  # garbage memory collection :)\n",
    "\n",
    "BINS=4\n",
    "RANGE=(10.0,300.0)\n",
    "\n",
    "# For testing, find the proper range.\n",
    "# import matplotlib.pyplot as plt\n",
    "# c = cl.Clarity(\"Cocaine178\")\n",
    "# hist, bin_edges = c.loadImg(info=False).getHistogram(bins=BINS,range=RANGE,density=True)\n",
    "# width = 0.8*(bin_edges[1] - bin_edges[0])\n",
    "# center = (bin_edges[:-1] + bin_edges[1:]) / 2\n",
    "# plt.bar(center, hist, align='center', width=width)\n",
    "# plt.show()\n",
    "\n",
    "for token in rs.TOKENS:\n",
    "    c = cl.Clarity(token)\n",
    "    hist, bin_edges = c.loadImg(info=False).getHistogram(bins=BINS,range=RANGE,density=False)\n",
    "    fname = \"../data/hist/\"+token+\".hist\"\n",
    "    np.savetxt(fname,hist,delimiter=',')\n",
    "    # print fname,\"saved.\"\n",
    "    del c\n",
    "    gc.collect()"
   ]
  },
  {
   "cell_type": "markdown",
   "metadata": {},
   "source": [
    "### Scale data"
   ]
  },
  {
   "cell_type": "code",
   "execution_count": null,
   "metadata": {
    "collapsed": false
   },
   "outputs": [],
   "source": [
    "import numpy as np\n",
    "import clarity.resources as rs\n",
    "BINS = 4\n",
    "features = np.empty(shape=(1,4))\n",
    "for token in rs.TOKENS:\n",
    "    fname = \"../data/hist/\"+token+\".hist\"\n",
    "    data = np.loadtxt(fname,delimiter=',')\n",
    "    features = np.vstack([features,data])\n",
    "features = features[1:,]\n",
    "minc = np.min(features)\n",
    "maxc = np.max(features)\n",
    "features = (features-minc)/(maxc-minc)\n",
    "print features\n",
    "np.savetxt(\"../data/hist/features.hist\",features,delimiter=',')"
   ]
  },
  {
   "cell_type": "markdown",
   "metadata": {},
   "source": [
    "### Setup Step"
   ]
  },
  {
   "cell_type": "code",
   "execution_count": 2,
   "metadata": {
    "collapsed": false
   },
   "outputs": [
    {
     "name": "stdout",
     "output_type": "stream",
     "text": [
      "[0.23770897349869147, 0.17949098607239755, 0.16388957730669243]\n",
      "[0.33325814318994945, 0.25244003850017155, 0.2346371954529729]\n"
     ]
    }
   ],
   "source": [
    "import numpy as np\n",
    "import matplotlib.pyplot as plt\n",
    "import os\n",
    "import csv\n",
    "import jgraph as ig\n",
    "\n",
    "from sklearn import cross_validation\n",
    "from sklearn.cross_validation import LeaveOneOut\n",
    "from sklearn.neighbors import KNeighborsClassifier\n",
    "from sklearn.ensemble import RandomForestClassifier\n",
    "from sklearn.svm import SVC\n",
    "from sklearn.discriminant_analysis import LinearDiscriminantAnalysis\n",
    "from sklearn.discriminant_analysis import QuadraticDiscriminantAnalysis\n",
    "\n",
    "%matplotlib inline\n",
    "\n",
    "np.random.seed(12345678)  # for reproducibility, set random seed\n",
    "\n",
    "# Cocaine = [\"Cocaine174\",\"Cocaine175\",\"Cocaine178\"]\n",
    "# Control = [\"Control181\",\"Control182\",\"Control189\",\"Control239\",\"Control258\"]\n",
    "# Fear = [\"Fear187\",\"Fear197\",\"Fear199\",\"Fear200\"]\n",
    "\n",
    "features = np.loadtxt(\"../data/hist/features.hist\",delimiter=',')\n",
    "temp_mu = np.mean(features,axis=1)\n",
    "temp_std = np.std(features,axis=1)\n",
    "\n",
    "mu = [np.mean(temp_mu[0:3]),np.mean(temp_mu[3:8]),np.mean(temp_mu[8:12])]\n",
    "std = [np.mean(temp_std[0:3]),np.mean(temp_std[3:8]),np.mean(temp_std[8:12])]\n",
    "print mu\n",
    "print std\n",
    "std=[1,1,1]\n",
    "\n",
    "# define number of subjects per class\n",
    "S = np.array((9, 21, 30, 39, 45, 63, 81, 96, 108, 210, 333))\n",
    "\n",
    "names = [\"Nearest Neighbors\", \"Linear SVM\", \"Random Forest\",\n",
    "         \"Linear Discriminant Analysis\", \"Quadratic Discriminant Analysis\"]\n",
    "\n",
    "classifiers = [\n",
    "    KNeighborsClassifier(3), # TODO: what is 3\n",
    "    SVC(kernel=\"linear\", C=0.5), # TODO: what is C\n",
    "    RandomForestClassifier(max_depth=5, n_estimators=10, max_features=1),\n",
    "    LinearDiscriminantAnalysis()]\n",
    "#     QuadraticDiscriminantAnalysis()]"
   ]
  },
  {
   "cell_type": "markdown",
   "metadata": {},
   "source": [
    "## Steps 4 & 5: Sample data from setting similar to data and record classification accuracy"
   ]
  },
  {
   "cell_type": "code",
   "execution_count": 4,
   "metadata": {
    "collapsed": false
   },
   "outputs": [
    {
     "name": "stdout",
     "output_type": "stream",
     "text": [
      "Accuracy of Nearest Neighbors: 0.00 (+/- 0.00)\n",
      "Accuracy of Linear SVM: 0.00 (+/- 0.00)\n",
      "Accuracy of Random Forest: 0.44 (+/- 0.99)\n",
      "Accuracy of Linear Discriminant Analysis: 1.00 (+/- 0.00)\n",
      "Accuracy of Nearest Neighbors: 0.33 (+/- 0.94)\n",
      "Accuracy of Linear SVM: 0.29 (+/- 0.90)\n",
      "Accuracy of Random Forest: 0.43 (+/- 0.99)\n",
      "Accuracy of Linear Discriminant Analysis: 0.43 (+/- 0.99)\n",
      "Accuracy of Nearest Neighbors: 0.43 (+/- 0.99)\n",
      "Accuracy of Linear SVM: 0.37 (+/- 0.96)\n",
      "Accuracy of Random Forest: 0.40 (+/- 0.98)\n",
      "Accuracy of Linear Discriminant Analysis: 0.43 (+/- 0.99)\n",
      "Accuracy of Nearest Neighbors: 0.26 (+/- 0.87)\n",
      "Accuracy of Linear SVM: 0.28 (+/- 0.90)\n",
      "Accuracy of Random Forest: 0.38 (+/- 0.97)\n",
      "Accuracy of Linear Discriminant Analysis: 0.28 (+/- 0.90)\n",
      "Accuracy of Nearest Neighbors: 0.47 (+/- 1.00)\n",
      "Accuracy of Linear SVM: 0.47 (+/- 1.00)\n",
      "Accuracy of Random Forest: 0.38 (+/- 0.97)\n",
      "Accuracy of Linear Discriminant Analysis: 0.51 (+/- 1.00)\n",
      "Accuracy of Nearest Neighbors: 0.30 (+/- 0.92)\n",
      "Accuracy of Linear SVM: 0.27 (+/- 0.89)\n",
      "Accuracy of Random Forest: 0.38 (+/- 0.97)\n",
      "Accuracy of Linear Discriminant Analysis: 0.29 (+/- 0.90)\n",
      "Accuracy of Nearest Neighbors: 0.33 (+/- 0.94)\n",
      "Accuracy of Linear SVM: 0.41 (+/- 0.98)\n",
      "Accuracy of Random Forest: 0.31 (+/- 0.92)\n",
      "Accuracy of Linear Discriminant Analysis: 0.38 (+/- 0.97)\n",
      "Accuracy of Nearest Neighbors: 0.30 (+/- 0.92)\n",
      "Accuracy of Linear SVM: 0.22 (+/- 0.83)\n",
      "Accuracy of Random Forest: 0.16 (+/- 0.73)\n",
      "Accuracy of Linear Discriminant Analysis: 0.18 (+/- 0.76)\n",
      "Accuracy of Nearest Neighbors: 0.39 (+/- 0.97)\n",
      "Accuracy of Linear SVM: 0.31 (+/- 0.93)\n",
      "Accuracy of Random Forest: 0.38 (+/- 0.97)\n",
      "Accuracy of Linear Discriminant Analysis: 0.30 (+/- 0.91)\n",
      "Accuracy of Nearest Neighbors: 0.36 (+/- 0.96)\n",
      "Accuracy of Linear SVM: 0.41 (+/- 0.98)\n",
      "Accuracy of Random Forest: 0.31 (+/- 0.92)\n",
      "Accuracy of Linear Discriminant Analysis: 0.36 (+/- 0.96)\n",
      "Accuracy of Nearest Neighbors: 0.31 (+/- 0.92)\n",
      "Accuracy of Linear SVM: 0.27 (+/- 0.89)\n",
      "Accuracy of Random Forest: 0.35 (+/- 0.96)\n",
      "Accuracy of Linear Discriminant Analysis: 0.27 (+/- 0.89)\n",
      "[[[ 0.          0.        ]\n",
      "  [ 0.          0.        ]\n",
      "  [ 0.44444444  0.49690399]\n",
      "  [ 1.          0.        ]]\n",
      "\n",
      " [[ 0.33333333  0.47140452]\n",
      "  [ 0.28571429  0.45175395]\n",
      "  [ 0.42857143  0.49487166]\n",
      "  [ 0.42857143  0.49487166]]\n",
      "\n",
      " [[ 0.43333333  0.49553562]\n",
      "  [ 0.36666667  0.48189441]\n",
      "  [ 0.4         0.48989795]\n",
      "  [ 0.43333333  0.49553562]]\n",
      "\n",
      " [[ 0.25641026  0.43665093]\n",
      "  [ 0.28205128  0.44999817]\n",
      "  [ 0.38461538  0.48650426]\n",
      "  [ 0.28205128  0.44999817]]\n",
      "\n",
      " [[ 0.46666667  0.49888765]\n",
      "  [ 0.46666667  0.49888765]\n",
      "  [ 0.37777778  0.48483165]\n",
      "  [ 0.51111111  0.49987653]]\n",
      "\n",
      " [[ 0.3015873   0.45894706]\n",
      "  [ 0.26984127  0.44387719]\n",
      "  [ 0.38095238  0.48562091]\n",
      "  [ 0.28571429  0.45175395]]\n",
      "\n",
      " [[ 0.33333333  0.47140452]\n",
      "  [ 0.40740741  0.49135182]\n",
      "  [ 0.30864198  0.46193301]\n",
      "  [ 0.38271605  0.48604987]]\n",
      "\n",
      " [[ 0.30208333  0.45916118]\n",
      "  [ 0.21875     0.41339864]\n",
      "  [ 0.15625     0.36309219]\n",
      "  [ 0.17708333  0.38173921]]\n",
      "\n",
      " [[ 0.38888889  0.48749802]\n",
      "  [ 0.31481481  0.46444208]\n",
      "  [ 0.37962963  0.48529473]\n",
      "  [ 0.2962963   0.45662326]]\n",
      "\n",
      " [[ 0.36190476  0.48055146]\n",
      "  [ 0.40952381  0.49174593]\n",
      "  [ 0.30952381  0.46229733]\n",
      "  [ 0.36190476  0.48055146]]\n",
      "\n",
      " [[ 0.30630631  0.46095852]\n",
      "  [ 0.27027027  0.44409937]\n",
      "  [ 0.35435435  0.4783172 ]\n",
      "  [ 0.27027027  0.44409937]]]\n"
     ]
    }
   ],
   "source": [
    "accuracy = np.zeros((len(S), len(classifiers), 2), dtype=np.dtype('float64'))\n",
    "for idx1, s in enumerate(S):\n",
    "    s0=s/3\n",
    "    s1=s/3\n",
    "    s2=s/3\n",
    "    \n",
    "    x0 = np.random.normal(mu[0],std[0],(s0,4))\n",
    "    x1 = np.random.normal(mu[1],std[1],(s1,4))\n",
    "    x2 = np.random.normal(mu[2],std[2],(s2,4))\n",
    "    X = x0\n",
    "    X = np.vstack([X,x1])\n",
    "    X = np.vstack([X,x2])\n",
    "    y = np.append(np.append(np.zeros(s0), np.ones(s1)),np.ones(s2)*2)\n",
    "    for idx2, cla in enumerate(classifiers):\n",
    "        X_train, X_test, y_train, y_test = cross_validation.train_test_split(X, y, test_size=0.4, random_state=0)\n",
    "        clf = cla.fit(X_train, y_train)\n",
    "        loo = LeaveOneOut(len(X))\n",
    "        scores = cross_validation.cross_val_score(clf, X, y, cv=loo)\n",
    "        accuracy[idx1, idx2,] = [scores.mean(), scores.std()]\n",
    "        print(\"Accuracy of %s: %0.2f (+/- %0.2f)\" % (names[idx2], scores.mean(), scores.std() * 2))\n",
    "    \n",
    "print accuracy"
   ]
  },
  {
   "cell_type": "markdown",
   "metadata": {},
   "source": [
    "## Step 6: Plot Accuracy versus N"
   ]
  },
  {
   "cell_type": "code",
   "execution_count": 5,
   "metadata": {
    "collapsed": false
   },
   "outputs": [
    {
     "data": {
      "image/png": "[encoded data removed]",
      "text/plain": [
       "<matplotlib.figure.Figure at 0x10d9c6a10>"
      ]
     },
     "metadata": {},
     "output_type": "display_data"
    }
   ],
   "source": [
    "plt.errorbar(S, accuracy[:,0,0], yerr = accuracy[:,0,1], hold=True, label=names[0])\n",
    "plt.errorbar(S, accuracy[:,1,0], yerr = accuracy[:,1,1], color='green', hold=True, label=names[1])\n",
    "plt.errorbar(S, accuracy[:,2,0], yerr = accuracy[:,2,1], color='red', hold=True, label=names[2])\n",
    "plt.errorbar(S, accuracy[:,3,0], yerr = accuracy[:,3,1], color='black', hold=True, label=names[3])\n",
    "# plt.errorbar(S, accuracy[:,4,0], yerr = accuracy[:,4,1], color='brown', hold=True, label=names[4])\n",
    "plt.xscale('log')\n",
    "plt.xlabel('number of samples')\n",
    "plt.ylabel('accuracy')\n",
    "plt.title('Accuracty of gender classification under simulated data')\n",
    "plt.axhline(1, color='red', linestyle='--')\n",
    "plt.legend(loc='center left', bbox_to_anchor=(1, 0.5))\n",
    "plt.show()"
   ]
  },
  {
   "cell_type": "markdown",
   "metadata": {},
   "source": [
    "## Step 7: Apply technique to data"
   ]
  },
  {
   "cell_type": "code",
   "execution_count": 6,
   "metadata": {
    "collapsed": true
   },
   "outputs": [],
   "source": [
    "y=np.array([0,0,0,1,1,1,1,1,2,2,2,2])\n",
    "features = np.loadtxt(\"../data/hist/features.hist\",delimiter=',')"
   ]
  },
  {
   "cell_type": "code",
   "execution_count": 7,
   "metadata": {
    "collapsed": false
   },
   "outputs": [
    {
     "name": "stdout",
     "output_type": "stream",
     "text": [
      "Accuracy of Nearest Neighbors: 0.00 (+/- 0.00)\n",
      "Accuracy of Linear SVM: 0.25 (+/- 0.87)\n",
      "Accuracy of Random Forest: 0.08 (+/- 0.55)\n",
      "Accuracy of Linear Discriminant Analysis: 0.25 (+/- 0.87)\n"
     ]
    }
   ],
   "source": [
    "accuracy=np.zeros((len(classifiers),2))\n",
    "for idx, cla in enumerate(classifiers):\n",
    "    X_train, X_test, y_train, y_test = cross_validation.train_test_split(features, y, test_size=0.4, random_state=0)\n",
    "    clf = cla.fit(X_train, y_train)\n",
    "    loo = LeaveOneOut(len(features))\n",
    "    scores = cross_validation.cross_val_score(clf, features, y, cv=loo)\n",
    "    accuracy[idx,] = [scores.mean(), scores.std()]\n",
    "    print(\"Accuracy of %s: %0.2f (+/- %0.2f)\" % (names[idx], scores.mean(), scores.std() * 2))"
   ]
  },
  {
   "cell_type": "markdown",
   "metadata": {},
   "source": [
    "## Step 8: Reflect on result"
   ]
  },
  {
   "cell_type": "code",
   "execution_count": null,
   "metadata": {
    "collapsed": true
   },
   "outputs": [],
   "source": []
  }
 ],
 "metadata": {
  "kernelspec": {
   "display_name": "Python 2",
   "language": "python",
   "name": "python3"
  },
  "language_info": {
   "codemirror_mode": {
    "name": "ipython",
    "version": 2
   },
   "file_extension": ".py",
   "mimetype": "text/x-python",
   "name": "python",
   "nbconvert_exporter": "python",
   "pygments_lexer": "ipython2",
   "version": "2.7.10"
  }
 },
 "nbformat": 4,
 "nbformat_minor": 0
}
