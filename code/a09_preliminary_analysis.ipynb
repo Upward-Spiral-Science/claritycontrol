{
 "cells": [
  {
   "cell_type": "markdown",
   "metadata": {},
   "source": [
    "# Additional Exploratory Analysis - Albert \n",
    "\n",
    "Metadata analysis: We already created a metadata script, however I never actually analyzed the metadata itself. \n",
    "Below is the metadata for two of the images, \"Fear200\" and \"Fear199\". "
   ]
  },
  {
   "cell_type": "markdown",
   "metadata": {},
   "source": [
    "{u'channels': {u'Grayscale': {u'channel_type': u'oldchannel',\n",
    "                              u'datatype': u'uint16',\n",
    "                              u'description': u'oldchannel',\n",
    "                              u'exceptions': 1,\n",
    "                              u'propagate': 2,\n",
    "                              u'readonly': 1,\n",
    "                              u'resolution': 0,\n",
    "                              u'windowrange': [0, 0]}},\n",
    " u'dataset': {u'cube_dimension': {u'0': [128, 128, 16],\n",
    "                                  u'1': [128, 128, 16],\n",
    "                                  u'2': [128, 128, 16],\n",
    "                                  u'3': [128, 128, 16],\n",
    "                                  u'4': [128, 128, 16],\n",
    "                                  u'5': [64, 64, 64]},\n",
    "              u'description': u'Fear200',\n",
    "              u'imagesize': {u'0': [17817, 23068, 1295],\n",
    "                             u'1': [8909, 11534, 1295],\n",
    "                             u'2': [4455, 5767, 1295],\n",
    "                             u'3': [2228, 2884, 1295],\n",
    "                             u'4': [1114, 1442, 1295],\n",
    "                             u'5': [557, 721, 1295]},\n",
    "              u'name': u'Fear200',\n",
    "              u'neariso_imagesize': {u'0': [17817, 23068, 1295],\n",
    "                                     u'1': [8909, 11534, 1295],\n",
    "                                     u'2': [4455, 5767, 1295],\n",
    "                                     u'3': [2228, 2884, 1295],\n",
    "                                     u'4': [1114, 1442, 647],\n",
    "                                     u'5': [557, 721, 431]},\n",
    "              u'neariso_offset': {u'0': [0.0, 0.0, 0.0],\n",
    "                                  u'1': [0.0, 0.0, 0.0],\n",
    "                                  u'2': [0.0, 0.0, 0.0],\n",
    "                                  u'3': [0.0, 0.0, 0.0],\n",
    "                                  u'4': [0.0, 0.0, 0.0],\n",
    "                                  u'5': [0.0, 0.0, 0.0]},\n",
    "              u'neariso_scaledown': {u'0': 1,\n",
    "                                     u'1': 1,\n",
    "                                     u'2': 1,\n",
    "                                     u'3': 1,\n",
    "                                     u'4': 2,\n",
    "                                     u'5': 3},\n",
    "              u'neariso_voxelres': {u'0': [1.0, 1.0, 10.0],\n",
    "                                    u'1': [2.0, 2.0, 10.0],\n",
    "                                    u'2': [4.0, 4.0, 10.0],\n",
    "                                    u'3': [8.0, 8.0, 10.0],\n",
    "                                    u'4': [16.0, 16.0, 20.0],\n",
    "                                    u'5': [32.0, 32.0, 30.0]},\n",
    "              u'offset': {u'0': [0, 0, 0],\n",
    "                          u'1': [0, 0, 0],\n",
    "                          u'2': [0, 0, 0],\n",
    "                          u'3': [0, 0, 0],\n",
    "                          u'4': [0, 0, 0],\n",
    "                          u'5': [0, 0, 0]},\n",
    "              u'resolutions': [0, 1, 2, 3, 4, 5],\n",
    "              u'scaling': u'zslices',\n",
    "              u'scalinglevels': 5,\n",
    "              u'timerange': [0, 0],\n",
    "              u'voxelres': {u'0': [1.0, 1.0, 10.0],\n",
    "                            u'1': [2.0, 2.0, 10.0],\n",
    "                            u'2': [4.0, 4.0, 10.0],\n",
    "                            u'3': [8.0, 8.0, 10.0],\n",
    "                            u'4': [16.0, 16.0, 10.0],\n",
    "                            u'5': [32.0, 32.0, 10.0]}},\n",
    " u'metadata': {},\n",
    " u'project': {u'description': u'Fear200',\n",
    "              u'name': u'Fear200',\n",
    "              u'version': u'0.0'}}\n"
   ]
  },
  {
   "cell_type": "markdown",
   "metadata": {},
   "source": [
    "{u'channels': {u'Grayscale': {u'channel_type': u'oldchannel',\n",
    "                              u'datatype': u'uint16',\n",
    "                              u'description': u'oldchannel',\n",
    "                              u'exceptions': 1,\n",
    "                              u'propagate': 2,\n",
    "                              u'readonly': 0,\n",
    "                              u'resolution': 0,\n",
    "                              u'windowrange': [99, 196]}},\n",
    " u'dataset': {u'cube_dimension': {u'0': [128, 128, 16],\n",
    "                                  u'1': [128, 128, 16],\n",
    "                                  u'2': [128, 128, 16],\n",
    "                                  u'3': [128, 128, 16],\n",
    "                                  u'4': [128, 128, 16],\n",
    "                                  u'5': [64, 64, 64]},\n",
    "              u'description': u'Fear199',\n",
    "              u'imagesize': {u'0': [17275, 22939, 1358],\n",
    "                             u'1': [8638, 11470, 1358],\n",
    "                             u'2': [4319, 5735, 1358],\n",
    "                             u'3': [2160, 2868, 1358],\n",
    "                             u'4': [1080, 1434, 1358],\n",
    "                             u'5': [540, 717, 1358]},\n",
    "              u'name': u'Fear199',\n",
    "              u'neariso_imagesize': {u'0': [17275, 22939, 1358],\n",
    "                                     u'1': [8638, 11470, 1358],\n",
    "                                     u'2': [4319, 5735, 1358],\n",
    "                                     u'3': [2160, 2868, 1358],\n",
    "                                     u'4': [1080, 1434, 679],\n",
    "                                     u'5': [540, 717, 452]},\n",
    "              u'neariso_offset': {u'0': [0.0, 0.0, 0.0],\n",
    "                                  u'1': [0.0, 0.0, 0.0],\n",
    "                                  u'2': [0.0, 0.0, 0.0],\n",
    "                                  u'3': [0.0, 0.0, 0.0],\n",
    "                                  u'4': [0.0, 0.0, 0.0],\n",
    "                                  u'5': [0.0, 0.0, 0.0]},\n",
    "              u'neariso_scaledown': {u'0': 1,\n",
    "                                     u'1': 1,\n",
    "                                     u'2': 1,\n",
    "                                     u'3': 1,\n",
    "                                     u'4': 2,\n",
    "                                     u'5': 3},\n",
    "              u'neariso_voxelres': {u'0': [1.0, 1.0, 10.0],\n",
    "                                    u'1': [2.0, 2.0, 10.0],\n",
    "                                    u'2': [4.0, 4.0, 10.0],\n",
    "                                    u'3': [8.0, 8.0, 10.0],\n",
    "                                    u'4': [16.0, 16.0, 20.0],\n",
    "                                    u'5': [32.0, 32.0, 30.0]},\n",
    "              u'offset': {u'0': [0, 0, 0],\n",
    "                          u'1': [0, 0, 0],\n",
    "                          u'2': [0, 0, 0],\n",
    "                          u'3': [0, 0, 0],\n",
    "                          u'4': [0, 0, 0],\n",
    "                          u'5': [0, 0, 0]},\n",
    "              u'resolutions': [0, 1, 2, 3, 4, 5],\n",
    "              u'scaling': u'zslices',\n",
    "              u'scalinglevels': 5,\n",
    "              u'timerange': [0, 0],\n",
    "              u'voxelres': {u'0': [1.0, 1.0, 10.0],\n",
    "                            u'1': [2.0, 2.0, 10.0],\n",
    "                            u'2': [4.0, 4.0, 10.0],\n",
    "                            u'3': [8.0, 8.0, 10.0],\n",
    "                            u'4': [16.0, 16.0, 10.0],\n",
    "                            u'5': [32.0, 32.0, 10.0]}},\n",
    " u'metadata': {},\n",
    " u'project': {u'description': u'Fear199',\n",
    "              u'name': u'Fear199',\n",
    "              u'version': u'0.0'}}\n"
   ]
  },
  {
   "cell_type": "markdown",
   "metadata": {},
   "source": [
    "When comparing the above two to the metadata of one of the controls it is clear that simple overlay analysis is not going to be particularly effective - we also will get back to this in a later section when we use microGL for visualization purposes. The most important thing to note is that (obviously in retrospect), the brains are different sizes. The easiest form of analysis for a dataset this small would be to use simple overlay analysis - that is overlaying our brains over some kind of atlas, however since the brains are different sizes, overlaying will be very difficult. Additionally, because of the unusual \"size\" of the data volumes, using standardized tools like histogram normalization is difficult - errors like: \"improper shape\" are common."
   ]
  },
  {
   "cell_type": "markdown",
   "metadata": {},
   "source": [
    "{u'channels': {u'Grayscale': {u'channel_type': u'oldchannel',\n",
    "                              u'datatype': u'uint16',\n",
    "                              u'description': u'oldchannel',\n",
    "                              u'exceptions': 1,\n",
    "                              u'propagate': 2,\n",
    "                              u'readonly': 1,\n",
    "                              u'resolution': 0,\n",
    "                              u'windowrange': [0, 0]}},\n",
    " u'dataset': {u'cube_dimension': {u'0': [128, 128, 16],\n",
    "                                  u'1': [128, 128, 16],\n",
    "                                  u'2': [128, 128, 16],\n",
    "                                  u'3': [128, 128, 16],\n",
    "                                  u'4': [128, 128, 16],\n",
    "                                  u'5': [64, 64, 64]},\n",
    "              u'description': u'Control258',\n",
    "              u'imagesize': {u'0': [17817, 24223, 1375],\n",
    "                             u'1': [8909, 12112, 1375],\n",
    "                             u'2': [4455, 6056, 1375],\n",
    "                             u'3': [2228, 3028, 1375],\n",
    "                             u'4': [1114, 1514, 1375],\n",
    "                             u'5': [557, 757, 1375]},\n",
    "              u'name': u'Control258',\n",
    "              u'neariso_imagesize': {u'0': [17817, 24223, 1375],\n",
    "                                     u'1': [8909, 12112, 1375],\n",
    "                                     u'2': [4455, 6056, 1375],\n",
    "                                     u'3': [2228, 3028, 1375],\n",
    "                                     u'4': [1114, 1514, 687],\n",
    "                                     u'5': [557, 757, 458]},\n",
    "              u'neariso_offset': {u'0': [0.0, 0.0, 6.0],\n",
    "                                  u'1': [0.0, 0.0, 6.0],\n",
    "                                  u'2': [0.0, 0.0, 6.0],\n",
    "                                  u'3': [0.0, 0.0, 6.0],\n",
    "                                  u'4': [0.0, 0.0, 3.0],\n",
    "                                  u'5': [0.0, 0.0, 2.0]},\n",
    "              u'neariso_scaledown': {u'0': 1,\n",
    "                                     u'1': 1,\n",
    "                                     u'2': 1,\n",
    "                                     u'3': 1,\n",
    "                                     u'4': 2,\n",
    "                                     u'5': 3},\n",
    "              u'neariso_voxelres': {u'0': [1.0, 1.0, 10.0],\n",
    "                                    u'1': [2.0, 2.0, 10.0],\n",
    "                                    u'2': [4.0, 4.0, 10.0],\n",
    "                                    u'3': [8.0, 8.0, 10.0],\n",
    "                                    u'4': [16.0, 16.0, 20.0],\n",
    "                                    u'5': [32.0, 32.0, 30.0]},\n",
    "              u'offset': {u'0': [0, 0, 6],\n",
    "                          u'1': [0, 0, 6],\n",
    "                          u'2': [0, 0, 6],\n",
    "                          u'3': [0, 0, 6],\n",
    "                          u'4': [0, 0, 6],\n",
    "                          u'5': [0, 0, 6]},\n",
    "              u'resolutions': [0, 1, 2, 3, 4, 5],\n",
    "              u'scaling': u'zslices',\n",
    "              u'scalinglevels': 5,\n",
    "              u'timerange': [0, 0],\n",
    "              u'voxelres': {u'0': [1.0, 1.0, 10.0],\n",
    "                            u'1': [2.0, 2.0, 10.0],\n",
    "                            u'2': [4.0, 4.0, 10.0],\n",
    "                            u'3': [8.0, 8.0, 10.0],\n",
    "                            u'4': [16.0, 16.0, 10.0],\n",
    "                            u'5': [32.0, 32.0, 10.0]}},\n",
    " u'metadata': {},\n",
    " u'project': {u'description': u'Control258',\n",
    "              u'name': u'Control258',\n",
    "              u'version': u'0.0'}}\n"
   ]
  },
  {
   "cell_type": "markdown",
   "metadata": {},
   "source": [
    "3D Analysis: In order to improve our visualization models I used several different softwares to visualize the data and try to extract better methods of creating a visualization model. This was mostly conducted using 3 different softwares:\n",
    "\n",
    "1. ITKSnap:\n",
    "![ITKSnap](https://raw.githubusercontent.com/Upward-Spiral-Science/claritycontrol/master/Documentation/ITKSnap.png)\n",
    "ITKSnap is a powerful tool that we are using to try to create a surface mesh. \n",
    "\n",
    "2. MicroGL:\n",
    "MicroGL is used to create the model. Because it generates a properly dimensioned and segmented brain image it is the template we are using for the brain encasing.\n",
    "\n",
    "3. Volview:\n",
    "![Volview](https://raw.githubusercontent.com/Upward-Spiral-Science/claritycontrol/master/Documentation/volview.png)\n",
    "Volview is very helpful for 3D visualization via shuffling of slices in the x,y,z coordinates.\n",
    "\n",
    "\n",
    "Currently I am using these three softwares to create a similar pipeline to create visualizations similar to http://f1000research.com/articles/4-466/v1. "
   ]
  },
  {
   "cell_type": "markdown",
   "metadata": {},
   "source": [
    "As a last-ditch effort, because of the inconclusive results from classification due to small sample size, I varied the bin numbers for our classification attempts to see if any additional information could be extracted."
   ]
  },
  {
   "cell_type": "code",
   "execution_count": 1,
   "metadata": {
    "collapsed": false
   },
   "outputs": [
    {
     "name": "stderr",
     "output_type": "stream",
     "text": [
      "/Library/Frameworks/Python.framework/Versions/2.7/lib/python2.7/site-packages/matplotlib/font_manager.py:273: UserWarning: Matplotlib is building the font cache using fc-list. This may take a moment.\n",
      "  warnings.warn('Matplotlib is building the font cache using fc-list. This may take a moment.')\n"
     ]
    },
    {
     "name": "stdout",
     "output_type": "stream",
     "text": [
      "[  4.90000000e+01   5.80000000e+01   1.35000000e+02   2.99000000e+02\n",
      "   7.36000000e+02   2.50000000e+03   7.66600000e+03   4.64490000e+04\n",
      "   1.51772000e+06   1.16437106e+08   1.97147778e+08   5.00216770e+07\n",
      "   3.75322990e+07   2.74382340e+07   1.78604610e+07   1.09035570e+07\n",
      "   7.49919200e+06   4.36949700e+06   3.13623000e+06   2.34876700e+06\n",
      "   1.79951900e+06   1.42698700e+06   1.15425800e+06   9.54144000e+05\n",
      "   8.01040000e+05   6.74604000e+05   5.75535000e+05   4.91377000e+05\n",
      "   4.22580000e+05   3.63628000e+05   3.17308000e+05   3.02971000e+05]\n"
     ]
    }
   ],
   "source": [
    "import os\n",
    "PATH=\"/Users/albertlee/claritycontrol/code/scripts\" # use your own path\n",
    "os.chdir(PATH)\n",
    "\n",
    "\n",
    "import clarity as cl  # I wrote this module for easier operations on data\n",
    "\n",
    "import matplotlib.pyplot as plt\n",
    "import jgraph as ig\n",
    "\n",
    "import clarity.resources as rs\n",
    "import csv,gc  # garbage memory collection :)\n",
    "\n",
    "import matplotlib\n",
    "#import matplotlib.pyplot as plt\n",
    "import numpy as np\n",
    "\n",
    "from skimage import data, img_as_float\n",
    "from skimage import exposure\n",
    "\n",
    "from numpy import genfromtxt\n",
    "\n",
    "BINS=32 # histogram bins\n",
    "RANGE=(10.0,300.0)\n",
    "\n",
    "matplotlib.rcParams['font.size'] = 8\n",
    "\n",
    "my_data = genfromtxt('../data/hist/Fear199.csv', delimiter=',')\n",
    "print my_data"
   ]
  },
  {
   "cell_type": "code",
   "execution_count": 7,
   "metadata": {
    "collapsed": false
   },
   "outputs": [
    {
     "name": "stdout",
     "output_type": "stream",
     "text": [
      "Image Loaded: ../data/raw/Cocaine174.img\n",
      "../data/hist/4binCocaine174.csv saved.\n",
      "Image Loaded: ../data/raw/Cocaine175.img\n",
      "../data/hist/4binCocaine175.csv saved.\n",
      "Image Loaded: ../data/raw/Cocaine178.img\n",
      "../data/hist/4binCocaine178.csv saved.\n",
      "Image Loaded: ../data/raw/Control181.img\n",
      "../data/hist/4binControl181.csv saved.\n",
      "Image Loaded: ../data/raw/Control182.img\n",
      "../data/hist/4binControl182.csv saved.\n",
      "Image Loaded: ../data/raw/Control189.img\n",
      "../data/hist/4binControl189.csv saved.\n",
      "Image Loaded: ../data/raw/Control239.img\n",
      "../data/hist/4binControl239.csv saved.\n",
      "Image Loaded: ../data/raw/Control258.img\n",
      "../data/hist/4binControl258.csv saved.\n",
      "Image Loaded: ../data/raw/Fear187.img\n",
      "../data/hist/4binFear187.csv saved.\n",
      "Image Loaded: ../data/raw/Fear197.img\n",
      "../data/hist/4binFear197.csv saved.\n",
      "Image Loaded: ../data/raw/Fear199.img\n",
      "../data/hist/4binFear199.csv saved.\n",
      "Image Loaded: ../data/raw/Fear200.img\n",
      "../data/hist/4binFear200.csv saved.\n",
      "[  2.53130000e+04   1.96457382e+08   4.00785140e+07   9.07274100e+06]\n"
     ]
    }
   ],
   "source": [
    "for token in rs.TOKENS:\n",
    "    c = cl.Clarity(token)\n",
    "    fname = rs.HIST_DATA_PATH+\"4bin\"+token+\".csv\"\n",
    "    hist, bin_edges = c.loadImg().getHistogram(bins=BINS,range=RANGE,density=False)\n",
    "    np.savetxt(fname,hist,delimiter=',')\n",
    "    print fname,\"saved.\"\n",
    "    del c\n",
    "    my_data = genfromtxt(fname, delimiter=',')\n",
    "    print my_data\n",
    "    gc.collect()\n",
    "\n"
   ]
  },
  {
   "cell_type": "code",
   "execution_count": 8,
   "metadata": {
    "collapsed": false
   },
   "outputs": [
    {
     "name": "stdout",
     "output_type": "stream",
     "text": [
      "[[  5.90824742e-05   1.00000000e+00   1.22120148e-01   3.20605118e-02]\n",
      " [  4.02513940e-05   7.51001373e-01   7.80913612e-02   1.58931904e-02]\n",
      " [  5.33573911e-05   6.79104808e-01   1.37626229e-01   3.64573693e-02]\n",
      " [  2.78582353e-05   4.21585477e-01   9.71577021e-02   3.32082903e-02]\n",
      " [  5.92327137e-06   4.24638954e-01   8.67806085e-02   1.53308807e-02]\n",
      " [  5.73946775e-05   6.93202617e-01   4.52744512e-02   9.53192775e-03]\n",
      " [  6.05608946e-05   7.68823440e-01   8.30486167e-02   1.90907356e-02]\n",
      " [  7.38027465e-05   7.55535379e-01   1.10174701e-01   2.62104007e-02]\n",
      " [  4.78017270e-05   6.07689571e-01   8.28482612e-02   2.16572894e-02]\n",
      " [  3.81464430e-05   6.13776330e-01   1.01223540e-01   2.66232891e-02]\n",
      " [  5.20707658e-05   7.33350093e-01   3.62225482e-02   6.27126756e-03]\n",
      " [  0.00000000e+00   3.13955869e-01   6.40167239e-02   1.44604348e-02]]\n"
     ]
    }
   ],
   "source": [
    "import numpy as np\n",
    "import clarity.resources as rs\n",
    "features = np.empty(shape=(1,BINS))\n",
    "for token in rs.TOKENS:\n",
    "    fname = rs.HIST_DATA_PATH+\"4bin\"+token+\".csv\"\n",
    "    data = np.loadtxt(fname,delimiter=',')\n",
    "    features = np.vstack([features,data])\n",
    "features = features[1:,]\n",
    "minc = np.min(features)\n",
    "maxc = np.max(features)\n",
    "features = (features-minc)/(maxc-minc)\n",
    "print features\n",
    "np.savetxt(rs.HIST_DATA_PATH+\"4binfeatures.csv\",features,delimiter=',')"
   ]
  },
  {
   "cell_type": "code",
   "execution_count": 9,
   "metadata": {
    "collapsed": false
   },
   "outputs": [
    {
     "name": "stdout",
     "output_type": "stream",
     "text": [
      "[0.23770897349869147, 0.17949098607239755, 0.16388957730669243]\n",
      "[0.33325814318994945, 0.25244003850017155, 0.2346371954529729]\n"
     ]
    }
   ],
   "source": [
    "from sklearn import cross_validation\n",
    "from sklearn.cross_validation import LeaveOneOut\n",
    "from sklearn.neighbors import KNeighborsClassifier\n",
    "from sklearn.ensemble import RandomForestClassifier\n",
    "from sklearn.svm import SVC\n",
    "from sklearn.discriminant_analysis import LinearDiscriminantAnalysis\n",
    "from sklearn.discriminant_analysis import QuadraticDiscriminantAnalysis\n",
    "\n",
    "%matplotlib inline\n",
    "\n",
    "np.random.seed(12345678)  # for reproducibility, set random seed\n",
    "\n",
    "# Cocaine = [\"Cocaine174\",\"Cocaine175\",\"Cocaine178\"]\n",
    "# Control = [\"Control181\",\"Control182\",\"Control189\",\"Control239\",\"Control258\"]\n",
    "# Fear = [\"Fear187\",\"Fear197\",\"Fear199\",\"Fear200\"]\n",
    "\n",
    "features = np.loadtxt(rs.HIST_DATA_PATH+\"4binfeatures.csv\",delimiter=',')\n",
    "temp_mu = np.mean(features,axis=1)\n",
    "temp_std = np.std(features,axis=1)\n",
    "\n",
    "mu = [np.mean(temp_mu[0:3]),np.mean(temp_mu[3:8]),np.mean(temp_mu[8:12])]\n",
    "std = [np.mean(temp_std[0:3]),np.mean(temp_std[3:8]),np.mean(temp_std[8:12])]\n",
    "print mu\n",
    "print std\n",
    "std=[1,1,1]\n",
    "\n",
    "# define number of subjects per class\n",
    "S = np.array((9, 21, 30, 39, 45, 63, 81, 96, 108, 210, 333))\n",
    "\n",
    "names = [\"Nearest Neighbors\", \"Linear SVM\", \"Random Forest\",\n",
    "         \"Linear Discriminant Analysis\", \"Quadratic Discriminant Analysis\"]\n",
    "\n",
    "classifiers = [\n",
    "    KNeighborsClassifier(3),\n",
    "    SVC(kernel=\"linear\", C=0.5),\n",
    "    RandomForestClassifier(max_depth=5, n_estimators=10, max_features=1),\n",
    "    LinearDiscriminantAnalysis()]"
   ]
  },
  {
   "cell_type": "code",
   "execution_count": 10,
   "metadata": {
    "collapsed": false
   },
   "outputs": [
    {
     "name": "stdout",
     "output_type": "stream",
     "text": [
      "Accuracy of Nearest Neighbors: 0.22 (+/- 0.83)\n",
      "Accuracy of Linear SVM: 0.11 (+/- 0.63)\n",
      "Accuracy of Random Forest: 0.22 (+/- 0.83)\n",
      "Accuracy of Linear Discriminant Analysis: 0.33 (+/- 0.94)\n",
      "Accuracy of Nearest Neighbors: 0.33 (+/- 0.94)\n",
      "Accuracy of Linear SVM: 0.24 (+/- 0.85)\n"
     ]
    },
    {
     "name": "stderr",
     "output_type": "stream",
     "text": [
      "/Library/Frameworks/Python.framework/Versions/2.7/lib/python2.7/site-packages/sklearn/discriminant_analysis.py:387: UserWarning: Variables are collinear.\n",
      "  warnings.warn(\"Variables are collinear.\")\n"
     ]
    },
    {
     "name": "stdout",
     "output_type": "stream",
     "text": [
      "Accuracy of Random Forest: 0.29 (+/- 0.90)\n",
      "Accuracy of Linear Discriminant Analysis: 0.33 (+/- 0.94)\n",
      "Accuracy of Nearest Neighbors: 0.20 (+/- 0.80)\n",
      "Accuracy of Linear SVM: 0.23 (+/- 0.85)\n"
     ]
    },
    {
     "name": "stderr",
     "output_type": "stream",
     "text": [
      "/Library/Frameworks/Python.framework/Versions/2.7/lib/python2.7/site-packages/sklearn/discriminant_analysis.py:453: UserWarning: The priors do not sum to 1. Renormalizing\n",
      "  UserWarning)\n"
     ]
    },
    {
     "name": "stdout",
     "output_type": "stream",
     "text": [
      "Accuracy of Random Forest: 0.30 (+/- 0.92)\n",
      "Accuracy of Linear Discriminant Analysis: 0.33 (+/- 0.94)\n",
      "Accuracy of Nearest Neighbors: 0.33 (+/- 0.94)\n",
      "Accuracy of Linear SVM: 0.10 (+/- 0.61)\n",
      "Accuracy of Random Forest: 0.26 (+/- 0.87)\n",
      "Accuracy of Linear Discriminant Analysis: 0.13 (+/- 0.67)\n",
      "Accuracy of Nearest Neighbors: 0.31 (+/- 0.93)\n",
      "Accuracy of Linear SVM: 0.04 (+/- 0.41)\n",
      "Accuracy of Random Forest: 0.31 (+/- 0.93)\n",
      "Accuracy of Linear Discriminant Analysis: 0.16 (+/- 0.72)\n",
      "Accuracy of Nearest Neighbors: 0.40 (+/- 0.98)\n",
      "Accuracy of Linear SVM: 0.57 (+/- 0.99)\n",
      "Accuracy of Random Forest: 0.40 (+/- 0.98)\n",
      "Accuracy of Linear Discriminant Analysis: 0.49 (+/- 1.00)\n",
      "Accuracy of Nearest Neighbors: 0.40 (+/- 0.98)\n",
      "Accuracy of Linear SVM: 0.28 (+/- 0.90)\n",
      "Accuracy of Random Forest: 0.23 (+/- 0.85)\n",
      "Accuracy of Linear Discriminant Analysis: 0.28 (+/- 0.90)\n",
      "Accuracy of Nearest Neighbors: 0.30 (+/- 0.92)\n",
      "Accuracy of Linear SVM: 0.29 (+/- 0.91)\n",
      "Accuracy of Random Forest: 0.29 (+/- 0.91)\n",
      "Accuracy of Linear Discriminant Analysis: 0.25 (+/- 0.87)\n",
      "Accuracy of Nearest Neighbors: 0.32 (+/- 0.94)\n",
      "Accuracy of Linear SVM: 0.46 (+/- 1.00)\n",
      "Accuracy of Random Forest: 0.31 (+/- 0.92)\n",
      "Accuracy of Linear Discriminant Analysis: 0.44 (+/- 0.99)\n",
      "Accuracy of Nearest Neighbors: 0.32 (+/- 0.94)\n",
      "Accuracy of Linear SVM: 0.37 (+/- 0.96)\n",
      "Accuracy of Random Forest: 0.35 (+/- 0.96)\n",
      "Accuracy of Linear Discriminant Analysis: 0.37 (+/- 0.97)\n",
      "Accuracy of Nearest Neighbors: 0.36 (+/- 0.96)\n",
      "Accuracy of Linear SVM: 0.40 (+/- 0.98)\n",
      "Accuracy of Random Forest: 0.30 (+/- 0.92)\n",
      "Accuracy of Linear Discriminant Analysis: 0.38 (+/- 0.97)\n",
      "[[[ 0.22222222  0.41573971]\n",
      "  [ 0.11111111  0.31426968]\n",
      "  [ 0.22222222  0.41573971]\n",
      "  [ 0.33333333  0.47140452]]\n",
      "\n",
      " [[ 0.33333333  0.47140452]\n",
      "  [ 0.23809524  0.42591771]\n",
      "  [ 0.28571429  0.45175395]\n",
      "  [ 0.33333333  0.47140452]]\n",
      "\n",
      " [[ 0.2         0.4       ]\n",
      "  [ 0.23333333  0.42295258]\n",
      "  [ 0.3         0.45825757]\n",
      "  [ 0.33333333  0.47140452]]\n",
      "\n",
      " [[ 0.33333333  0.47140452]\n",
      "  [ 0.1025641   0.30338871]\n",
      "  [ 0.25641026  0.43665093]\n",
      "  [ 0.12820513  0.33431807]]\n",
      "\n",
      " [[ 0.31111111  0.46294815]\n",
      "  [ 0.04444444  0.20608041]\n",
      "  [ 0.31111111  0.46294815]\n",
      "  [ 0.15555556  0.36243348]]\n",
      "\n",
      " [[ 0.3968254   0.48923921]\n",
      "  [ 0.57142857  0.49487166]\n",
      "  [ 0.3968254   0.48923921]\n",
      "  [ 0.49206349  0.49993701]]\n",
      "\n",
      " [[ 0.39506173  0.48886395]\n",
      "  [ 0.28395062  0.45091314]\n",
      "  [ 0.2345679   0.42372845]\n",
      "  [ 0.28395062  0.45091314]]\n",
      "\n",
      " [[ 0.30208333  0.45916118]\n",
      "  [ 0.29166667  0.45452967]\n",
      "  [ 0.29166667  0.45452967]\n",
      "  [ 0.25        0.4330127 ]]\n",
      "\n",
      " [[ 0.32407407  0.46802785]\n",
      "  [ 0.46296296  0.49862637]\n",
      "  [ 0.30555556  0.46064233]\n",
      "  [ 0.43518519  0.49578124]]\n",
      "\n",
      " [[ 0.32380952  0.46792832]\n",
      "  [ 0.36666667  0.48189441]\n",
      "  [ 0.35238095  0.47771186]\n",
      "  [ 0.37142857  0.4831867 ]]\n",
      "\n",
      " [[ 0.36036036  0.48010496]\n",
      "  [ 0.3993994   0.48977497]\n",
      "  [ 0.3033033   0.45968512]\n",
      "  [ 0.38438438  0.48644941]]]\n"
     ]
    }
   ],
   "source": [
    "accuracy = np.zeros((len(S), len(classifiers), 2), dtype=np.dtype('float64'))\n",
    "for idx1, s in enumerate(S):\n",
    "    s0=s/3\n",
    "    s1=s/3\n",
    "    s2=s/3\n",
    "    \n",
    "    x0 = np.random.normal(mu[0],std[0],(s0,BINS))\n",
    "    x1 = np.random.normal(mu[1],std[1],(s1,BINS))\n",
    "    x2 = np.random.normal(mu[2],std[2],(s2,BINS))\n",
    "    X = x0\n",
    "    X = np.vstack([X,x1])\n",
    "    X = np.vstack([X,x2])\n",
    "    y = np.append(np.append(np.zeros(s0), np.ones(s1)),np.ones(s2)*2)\n",
    "    for idx2, cla in enumerate(classifiers):\n",
    "        X_train, X_test, y_train, y_test = cross_validation.train_test_split(X, y, test_size=0.4, random_state=0)\n",
    "        clf = cla.fit(X_train, y_train)\n",
    "        loo = LeaveOneOut(len(X))\n",
    "        scores = cross_validation.cross_val_score(clf, X, y, cv=loo)\n",
    "        accuracy[idx1, idx2,] = [scores.mean(), scores.std()]\n",
    "        print(\"Accuracy of %s: %0.2f (+/- %0.2f)\" % (names[idx2], scores.mean(), scores.std() * 2))\n",
    "    \n",
    "print accuracy"
   ]
  },
  {
   "cell_type": "code",
   "execution_count": 11,
   "metadata": {
    "collapsed": false
   },
   "outputs": [
    {
     "data": {
      "image/png": "[encoded data removed]",
      "text/plain": [
       "<matplotlib.figure.Figure at 0x10af80e90>"
      ]
     },
     "metadata": {},
     "output_type": "display_data"
    }
   ],
   "source": [
    "plt.errorbar(S, accuracy[:,0,0], yerr = accuracy[:,0,1], hold=True, label=names[0])\n",
    "plt.errorbar(S, accuracy[:,1,0], yerr = accuracy[:,1,1], color='green', hold=True, label=names[1])\n",
    "plt.errorbar(S, accuracy[:,2,0], yerr = accuracy[:,2,1], color='red', hold=True, label=names[2])\n",
    "plt.errorbar(S, accuracy[:,3,0], yerr = accuracy[:,3,1], color='black', hold=True, label=names[3])\n",
    "# plt.errorbar(S, accuracy[:,4,0], yerr = accuracy[:,4,1], color='brown', hold=True, label=names[4])\n",
    "plt.xscale('log')\n",
    "plt.xlabel('number of samples')\n",
    "plt.ylabel('accuracy')\n",
    "plt.title('Accuracy of classification under simulated data')\n",
    "plt.axhline(1, color='red', linestyle='--')\n",
    "plt.legend(loc='center left', bbox_to_anchor=(1, 0.5))\n",
    "plt.show()"
   ]
  },
  {
   "cell_type": "code",
   "execution_count": 12,
   "metadata": {
    "collapsed": true
   },
   "outputs": [],
   "source": [
    "y=np.array([0,0,0,1,1,1,1,1,2,2,2,2])\n",
    "features = np.loadtxt(rs.HIST_DATA_PATH+\"4binfeatures.csv\",delimiter=',')"
   ]
  },
  {
   "cell_type": "code",
   "execution_count": 13,
   "metadata": {
    "collapsed": false
   },
   "outputs": [
    {
     "name": "stdout",
     "output_type": "stream",
     "text": [
      "Accuracy of Nearest Neighbors: 0.00 (+/- 0.00)\n",
      "Accuracy of Linear SVM: 0.25 (+/- 0.87)\n",
      "Accuracy of Random Forest: 0.33 (+/- 0.94)\n",
      "Accuracy of Linear Discriminant Analysis: 0.25 (+/- 0.87)\n"
     ]
    }
   ],
   "source": [
    "accuracy=np.zeros((len(classifiers),2))\n",
    "for idx, cla in enumerate(classifiers):\n",
    "    X_train, X_test, y_train, y_test = cross_validation.train_test_split(features, y, test_size=0.4, random_state=0)\n",
    "    clf = cla.fit(X_train, y_train)\n",
    "    loo = LeaveOneOut(len(features))\n",
    "    scores = cross_validation.cross_val_score(clf, features, y, cv=loo)\n",
    "    accuracy[idx,] = [scores.mean(), scores.std()]\n",
    "    print(\"Accuracy of %s: %0.2f (+/- %0.2f)\" % (names[idx], scores.mean(), scores.std() * 2))"
   ]
  },
  {
   "cell_type": "markdown",
   "metadata": {},
   "source": [
    "Now for the simplest case:"
   ]
  },
  {
   "cell_type": "code",
   "execution_count": null,
   "metadata": {
    "collapsed": false
   },
   "outputs": [
    {
     "name": "stdout",
     "output_type": "stream",
     "text": [
      "Image Loaded: ../data/raw/Cocaine174.img\n"
     ]
    }
   ],
   "source": [
    "for token in rs.TOKENS:\n",
    "    c = cl.Clarity(token)\n",
    "    fname = rs.HIST_DATA_PATH+\"1bin\"+token+\".csv\"\n",
    "    hist, bin_edges = c.loadImg().getHistogram(bins=BINS,range=RANGE,density=False)\n",
    "    np.savetxt(fname,hist,delimiter=',')\n",
    "    print fname,\"saved.\"\n",
    "    del c\n",
    "    my_data = genfromtxt(fname, delimiter=',')\n",
    "    print my_data\n",
    "    gc.collect()\n"
   ]
  },
  {
   "cell_type": "code",
   "execution_count": null,
   "metadata": {
    "collapsed": true
   },
   "outputs": [],
   "source": []
  }
 ],
 "metadata": {
  "kernelspec": {
   "display_name": "Python 2",
   "language": "python",
   "name": "python2"
  },
  "language_info": {
   "codemirror_mode": {
    "name": "ipython",
    "version": 2
   },
   "file_extension": ".py",
   "mimetype": "text/x-python",
   "name": "python",
   "nbconvert_exporter": "python",
   "pygments_lexer": "ipython2",
   "version": "2.7.11"
  }
 },
 "nbformat": 4,
 "nbformat_minor": 0
}
