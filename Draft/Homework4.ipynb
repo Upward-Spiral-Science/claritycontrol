{
 "cells": [
  {
   "cell_type": "markdown",
   "metadata": {},
   "source": [
    "# Formal Simulated Inference\n",
    "1. Define F (i.e. your model and assumptions)\n",
    "2. Formalize test\n",
    "3. Describe test statistic\n",
    "4. A. Sample data from F∈ℱ0\n",
    "   B. Sample data from F∈ℱA\n",
    "5. A. Plot power vs n (i.e. perspective power analysis)\n",
    "   B. Plot power vs n (i.e. perspective power analysis)\n",
    "6. Apply to data\n",
    "\n",
    "## Step 1: Define model and assumptions\n",
    "**Model**\n",
    "\n",
    "\[F(X,Y) | ~ Histogram Data\]\n",
    "\n",
    "a) $F(I,k) = \\{ F(I|k)*F(k) \\}$\n",
    "\n",
    "$F(k)= \\{0,1\\}$\n",
    "\n",
    "* 0 = Control Image\n",
    "* 1 = Cocaine Image\n",
    "\n",
    "b) $F(I,k) = \\{ F(I|k)*F(k) \\}$\n",
    "\n",
    "$F(k)= \\{0,1\\}$\n",
    "\n",
    "**Assumption**\n",
    "\n",
    "## Step 2: Formalize test\n",
    "H0:\n",
    "\n",
    "1. $F(I,0) > || = F(I,1)$\n",
    "2. $F(I,0) < ||= F(I,1)$\n",
    "\n",
    "1. The maximum gray value for Cocaine stimulated brain is equal to the control brain. \n",
    "2. The maximum gray value for fear induced brain is equal the control brain.\n",
    "\n",
    "HA: \n",
    "1. $F(I,0) < || != F(I,1)$\n",
    "2. $F(I,0) > || != F(I,1)$\n",
    "\n",
    "1. The maximum gray value for Cocaine stimulated brain is greater than the control brain. \n",
    "2. The maximum gray value for fear induced brain is lower than the control brain.\n",
    "\n",
    "## Step 3. Test Statistic \n",
    "\n",
    "$$F(i,j) = floor((L-1)sum_{n=0}^{F(i,j)} {P_n} )$$\n",
    "\n",
    "$P_n$ = Number of pixels of intensity n / Total number of pixels\n",
    "\n",
    "$F(I) = mean (F(i,j))$ % mean gray value in the image\n",
    "\n",
    "## Requirements to run the program\n",
    "In order to run the program, we need to install the packages in python\n",
    "> [VisPy](http://vispy.org/installation.html)\n",
    "> [PyQt4](https://www.riverbankcomputing.com/software/pyqt/download)\n",
    "> [SIP](https://www.riverbankcomputing.com/software/sip/download)\n",
    "> [nibabel](http://nipy.org/nibabel/installation.html)\n",
    "> matplotlib,numpy"
   ]
  },
  {
   "cell_type": "code",
   "execution_count": null,
   "metadata": {
    "collapsed": false
   },
   "outputs": [],
   "source": [
    "# change working dir\n",
    "path = \"/Users/david/Desktop/CourseWork/TheArtOfDataScience/claritycontrol/code/scripts\" # use your own path\n",
    "import os\n",
    "os.chdir(path)\n",
    "# you need also adapt paths in clarity.resources to your own directory\n",
    "# BASEPATH = \"/Users/david/Desktop/CourseWork/TheArtOfDataScience/claritycontrol/code/data/\"\n",
    "# DATAPATH = BASEPATH+\"./\"\n",
    "# METADATAPATH = BASEPATH+\"meta/\"\n",
    "# POINTSPATH = BASEPATH+\"points/\"\n",
    "# or simply set like this\n",
    "import clarity.resources as rs\n",
    "rs.BASEPATH = \"/Users/david/Desktop/CourseWork/TheArtOfDataScience/claritycontrol/code/data/\"\n",
    "\n",
    "import clarity as cl  # I wrote this module for easier operations on data\n",
    "# create a instance\n",
    "c = cl.Clarity(\"Fear199\")"
   ]
  },
  {
   "cell_type": "code",
   "execution_count": null,
   "metadata": {
    "collapsed": false
   },
   "outputs": [],
   "source": [
    "# load image, to points # takes a while to process the data\n",
    "# * threshold rate is used to cut off some noise data.\n",
    "# * sample is sampling rate\n",
    "# show histogram\n",
    "c.loadImg(info=False).imgToPoints(threshold=0.02,sample=0.3).showHistogram(bins=256)"
   ]
  },
  {
   "cell_type": "code",
   "execution_count": 1,
   "metadata": {
    "collapsed": false
   },
   "outputs": [
    {
     "data": {
      "text/html": [
       "<img src=\"https://raw.githubusercontent.com/Upward-Spiral-Science/claritycontrol/dev/code/ipy_images/Fear199_hist.png\"/>"
      ],
      "text/plain": [
       "<IPython.core.display.Image object>"
      ]
     },
     "execution_count": 1,
     "metadata": {},
     "output_type": "execute_result"
    }
   ],
   "source": [
    "from IPython.display import Image\n",
    "from IPython.core.display import HTML \n",
    "Image(url=\"https://raw.githubusercontent.com/Upward-Spiral-Science/claritycontrol/dev/code/ipy_images/Fear199_hist.png\")"
   ]
  },
  {
   "cell_type": "code",
   "execution_count": null,
   "metadata": {
    "collapsed": false
   },
   "outputs": [],
   "source": [
    "b = cl.Clarity(\"Cocaine174\")\n",
    "b.loadImg(info=False).imgToPoints(threshold=0.08,sample=0.1).showHistogram(bins=256)"
   ]
  },
  {
   "cell_type": "code",
   "execution_count": 2,
   "metadata": {
    "collapsed": false
   },
   "outputs": [
    {
     "data": {
      "text/html": [
       "<img src=\"https://raw.githubusercontent.com/Upward-Spiral-Science/claritycontrol/dev/code/ipy_images/Cocaine174_hist.png\"/>"
      ],
      "text/plain": [
       "<IPython.core.display.Image object>"
      ]
     },
     "execution_count": 2,
     "metadata": {},
     "output_type": "execute_result"
    }
   ],
   "source": [
    "from IPython.display import Image\n",
    "from IPython.core.display import HTML \n",
    "Image(url=\"https://raw.githubusercontent.com/Upward-Spiral-Science/claritycontrol/dev/code/ipy_images/Cocaine174_hist.png\")"
   ]
  },
  {
   "cell_type": "code",
   "execution_count": null,
   "metadata": {
    "collapsed": false
   },
   "outputs": [],
   "source": [
    "a = cl.Clarity(\"Control239\")\n",
    "a.loadImg(info=False).imgToPoints(threshold=0.04,sample=0.3).showHistogram(bins=256)"
   ]
  },
  {
   "cell_type": "code",
   "execution_count": 3,
   "metadata": {
    "collapsed": false
   },
   "outputs": [
    {
     "data": {
      "text/html": [
       "<img src=\"https://raw.githubusercontent.com/Upward-Spiral-Science/claritycontrol/dev/code/ipy_images/Control239_hist.png\"/>"
      ],
      "text/plain": [
       "<IPython.core.display.Image object>"
      ]
     },
     "execution_count": 3,
     "metadata": {},
     "output_type": "execute_result"
    }
   ],
   "source": [
    "from IPython.display import Image\n",
    "from IPython.core.display import HTML \n",
    "Image(url=\"https://raw.githubusercontent.com/Upward-Spiral-Science/claritycontrol/dev/code/ipy_images/Control239_hist.png\")"
   ]
  },
  {
   "cell_type": "code",
   "execution_count": null,
   "metadata": {
    "collapsed": false
   },
   "outputs": [],
   "source": [
    "# save points to csv file\n",
    "# load directly from points data, instead of the origin data\n",
    "c.loadImg(info=False).imgToPoints(threshold=0.04,sample=0.5).savePoints()\n",
    "\n",
    "# load from points data file\n",
    "# show on 3D graph, GPU intensive\n",
    "c.loadPoints().show()"
   ]
  },
  {
   "cell_type": "code",
   "execution_count": 4,
   "metadata": {
    "collapsed": false
   },
   "outputs": [
    {
     "data": {
      "text/html": [
       "<img src=\"https://raw.githubusercontent.com/Upward-Spiral-Science/claritycontrol/dev/code/ipy_images/3dvisualdemo.png\"/>"
      ],
      "text/plain": [
       "<IPython.core.display.Image object>"
      ]
     },
     "execution_count": 4,
     "metadata": {},
     "output_type": "execute_result"
    }
   ],
   "source": [
    "# A screen shot\n",
    "from IPython.display import Image\n",
    "from IPython.core.display import HTML \n",
    "Image(url= \"https://raw.githubusercontent.com/Upward-Spiral-Science/claritycontrol/dev/code/ipy_images/3dvisualdemo.png\")"
   ]
  },
  {
   "cell_type": "markdown",
   "metadata": {},
   "source": [
    "## Reflect\n",
    "\n",
    "We can infer from the histogram plots that the maximum gray values in cocaine stimulated brain is higher than the control brain. This is conclusive with the alternative hypothesis. This also agrees with literature that indicates that the brain is more active when stimulated by cocaine, thereby lighting up more than the control brain."
   ]
  }
 ],
 "metadata": {
  "kernelspec": {
   "display_name": "Python 2",
   "language": "python",
   "name": "python3"
  },
  "language_info": {
   "codemirror_mode": {
    "name": "ipython",
    "version": 2
   },
   "file_extension": ".py",
   "mimetype": "text/x-python",
   "name": "python",
   "nbconvert_exporter": "python",
   "pygments_lexer": "ipython2",
   "version": "2.7.10"
  }
 },
 "nbformat": 4,
 "nbformat_minor": 0
}
