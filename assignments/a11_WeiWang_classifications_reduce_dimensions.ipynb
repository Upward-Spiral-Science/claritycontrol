{
 "cells": [
  {
   "cell_type": "markdown",
   "metadata": {
    "collapsed": true
   },
   "source": [
    "# ROI classifications\n",
    "\n",
    "As an observation"
   ]
  },
  {
   "cell_type": "markdown",
   "metadata": {},
   "source": [
    "## Setup\n",
    "\n",
    "Setup environment and read data"
   ]
  },
  {
   "cell_type": "code",
   "execution_count": null,
   "metadata": {
    "collapsed": true
   },
   "outputs": [],
   "source": [
    "FEATURES_PATH = '../code/data/roi_features/features.csv'  # use your own path\n",
    "\n",
    "import numpy as np\n",
    "import matplotlib\n",
    "matplotlib.use('AGG')  # avoid some error in matplotlib, delete this line if the following doesn't work\n",
    "import matplotlib.pyplot as plt\n",
    "from mpl_toolkits.mplot3d import Axes3D\n",
    "import jgraph as ig\n",
    "%matplotlib inline\n",
    "\n",
    "# DATA description (column description)\n",
    "# 0. class label [0=cocaine | 1=control | 2=fear]\n",
    "# 1. brain number\n",
    "# 2. roi number\n",
    "# 3. roi position X\n",
    "# 4. roi position Y\n",
    "# 5. roi position Z\n",
    "# 6. roi mean\n",
    "# 7. roi std\n",
    "# 8. Haralick feature - Energy\n",
    "# 9. Haralick feature - Entropy\n",
    "# 10. Haralick feature - Correlation\n",
    "# 11. Haralick feature - Contrast\n",
    "# 12. Haralick feature - Variance\n",
    "# 13. Haralick feature - SumMean\n",
    "# 14. Haralick feature - Inertia\n",
    "# 15. Haralick feature - Cluster Shade\n",
    "# 16. Haralick feature - Cluster tendency\n",
    "# 17. Haralick feature - Homogeneity\n",
    "# 18. Haralick feature - MaxProbability\n",
    "# 19. Haralick feature - Inverse Variance\n",
    "fields = ['label','nbrain','nroi','roix','roiy','roiy','mean','std','energy','entropy','correlation','contrast','variance',\n",
    "          'summean','inertia','cluster shade','cluster tendency','homogeneity','maxProbability','inverse variance']\n",
    "data = np.genfromtxt(FEATURES_PATH, delimiter=\",\", dtype=np.float32)# the features data have been pre-processed and merged\n",
    "\n",
    "brain_nums = np.unique(data[:,1])\n",
    "roi_nums = np.unique(data[:,2])\n",
    "\n",
    "# preview - print brain numbers\n",
    "print brain_nums\n",
    "\n",
    "# preview - print roi numbers\n",
    "print roi_nums"
   ]
  },
  {
   "cell_type": "markdown",
   "metadata": {},
   "source": []
  },
  {
   "cell_type": "code",
   "execution_count": null,
   "metadata": {
    "collapsed": true
   },
   "outputs": [],
   "source": []
  },
  {
   "cell_type": "code",
   "execution_count": null,
   "metadata": {
    "collapsed": true
   },
   "outputs": [],
   "source": []
  },
  {
   "cell_type": "code",
   "execution_count": null,
   "metadata": {
    "collapsed": true
   },
   "outputs": [],
   "source": []
  },
  {
   "cell_type": "code",
   "execution_count": null,
   "metadata": {
    "collapsed": true
   },
   "outputs": [],
   "source": []
  }
 ],
 "metadata": {
  "kernelspec": {
   "display_name": "Python 2",
   "language": "python",
   "name": "python2"
  },
  "language_info": {
   "codemirror_mode": {
    "name": "ipython",
    "version": 2
   },
   "file_extension": ".py",
   "mimetype": "text/x-python",
   "name": "python",
   "nbconvert_exporter": "python",
   "pygments_lexer": "ipython2",
   "version": "2.7.10"
  }
 },
 "nbformat": 4,
 "nbformat_minor": 0
}
